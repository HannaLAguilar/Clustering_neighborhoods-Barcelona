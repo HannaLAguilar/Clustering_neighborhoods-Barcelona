{
  "cells": [
    {
      "metadata": {},
      "cell_type": "markdown",
      "source": "# Business Problem"
    },
    {
      "metadata": {},
      "cell_type": "markdown",
      "source": "## Background: Barcelona, a expensive dream"
    },
    {
      "metadata": {},
      "cell_type": "markdown",
      "source": "Finding a place to live can be a hard task, specially if you are not living in the city and you are a foreign student. As a student in a different country I learned a lot of tips to find the perfect place to live, unfortunately, everything I learned was at the final period of my studies.\n\nBarcelona is a modern cosmopolitan city endowed with great dynamism. A great place with a rich culture, an identity of its own and an inexhaustible cultural and recreational offer. Therefore, it is not surprising that it is the 3rd most visited city in Europe and the 10th worldwide, with more than 8.4 million tourists annually. But all of this has a cost: it is the city with the most expensive rental in Spain. Also, in Barcelona there are more than 200,000 students where the 40% are foreign and the other 30% comes from other cities of Spain. We have the combination of a city with a lot of attractions and culture and a high flow of students desperate to find the most convenient place to live.\n\nMy business idea is to create an application that recommends the best neighborhood to live in Barcelona according to each type of student. Let's take a look."
    },
    {
      "metadata": {},
      "cell_type": "markdown",
      "source": "<center> <img src=\"banner-barcelona-1-1.jpg\" > <center>"
    },
    {
      "metadata": {
        "collapsed": true
      },
      "cell_type": "markdown",
      "source": "## The quest for perfect Neighbourhood"
    },
    {
      "metadata": {},
      "cell_type": "markdown",
      "source": "Imagine you are a foreign student in a Barcelona. You must prepare all the things you need for your trip, your papers, where will you live, which are the most popular neighbourhoods? which means of transport will you to take? So you enter the internet to look for useful information but bad news: your city is big and there's so much information it confuses you. By this point you are already very stressed, so, what could you do?\n\nEnter to the new and fresh app called Ciro! With only a few questions about your personality, college, budget and interests, Ciro recommends you the three best neighbourhoods!"
    },
    {
      "metadata": {},
      "cell_type": "markdown",
      "source": " <img src=\"CIRO.png\" width=300 align=\"left\">"
    },
    {
      "metadata": {},
      "cell_type": "markdown",
      "source": "## Analytic approach"
    },
    {
      "metadata": {},
      "cell_type": "markdown",
      "source": "To face the problem, we create a Machine Learning model using a k-means clustering algorithm to divide Barcelona into 10 groups to recommend a zone to each student type."
    },
    {
      "metadata": {},
      "cell_type": "markdown",
      "source": "# Data"
    },
    {
      "metadata": {},
      "cell_type": "markdown",
      "source": "We will need data from:\n\n- Cartographic division of Barcelona by neighborhood\n- The most attractive places for each neighborhood\n- Nearby libraries \n- Cost of the average rental of apartments by neighborhood\n- Transport information\n\nThe sources used for this project will be:\n\n- Foursquare: to get the venue data from the neighbourhoods\n- Open Data BCN: to get information about:\n    - Population\n    - Coordinates of the neighbourhoods\n    - Apartment rental by neighborhood \n    - Public libraries \n    - Public transportation\n"
    },
    {
      "metadata": {
        "trusted": true
      },
      "cell_type": "code",
      "source": "",
      "execution_count": null,
      "outputs": []
    }
  ],
  "metadata": {
    "kernelspec": {
      "name": "python36",
      "display_name": "Python 3.6",
      "language": "python"
    },
    "language_info": {
      "mimetype": "text/x-python",
      "nbconvert_exporter": "python",
      "name": "python",
      "pygments_lexer": "ipython3",
      "version": "3.6.6",
      "file_extension": ".py",
      "codemirror_mode": {
        "version": 3,
        "name": "ipython"
      }
    }
  },
  "nbformat": 4,
  "nbformat_minor": 2
}